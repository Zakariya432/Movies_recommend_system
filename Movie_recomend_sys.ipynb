{
 "cells": [
  {
   "cell_type": "code",
   "execution_count": null,
   "id": "83498811",
   "metadata": {},
   "outputs": [],
   "source": [
    "import numpy as np #importing numpy\n",
    "import pandas as pd #importing pandas"
   ]
  },
  {
   "cell_type": "code",
   "execution_count": null,
   "id": "2d70f80a",
   "metadata": {},
   "outputs": [],
   "source": [
    "movies = pd.read_csv('tmdb_5000_movies.csv') #read the movies file\n",
    "credits = pd.read_csv('tmdb_5000_credits.csv') #read the credits file"
   ]
  },
  {
   "cell_type": "code",
   "execution_count": null,
   "id": "90c713aa",
   "metadata": {},
   "outputs": [],
   "source": [
    "movies.head(1) #to show about one movie"
   ]
  },
  {
   "cell_type": "code",
   "execution_count": null,
   "id": "cfbd395b",
   "metadata": {},
   "outputs": [],
   "source": [
    "movies.merge(credits,on='title') #command use to merge"
   ]
  },
  {
   "cell_type": "code",
   "execution_count": null,
   "id": "91a885a9",
   "metadata": {},
   "outputs": [],
   "source": [
    "movies.merge(credits,on='title').shape #to know the shape of the dataset"
   ]
  },
  {
   "cell_type": "code",
   "execution_count": null,
   "id": "27c4765f",
   "metadata": {},
   "outputs": [],
   "source": [
    "movies.shape #to know the movies shape\n",
    "#credits.shape #to know the credit shape"
   ]
  },
  {
   "cell_type": "code",
   "execution_count": null,
   "id": "e54d8c4f",
   "metadata": {},
   "outputs": [],
   "source": [
    "movies = movies.merge(credits,on='title') #adding the caste and crew datas form credits dataset to the movies"
   ]
  },
  {
   "cell_type": "code",
   "execution_count": null,
   "id": "88c0d7f3",
   "metadata": {},
   "outputs": [],
   "source": [
    "movies.head(1) "
   ]
  },
  {
   "cell_type": "code",
   "execution_count": null,
   "id": "d558a789",
   "metadata": {},
   "outputs": [],
   "source": [
    "#to select the number of needed columns and remove the other columns\n",
    "#genres\n",
    "#id\n",
    "#keywords\n",
    "#title\n",
    "#overview\n",
    "#cast\n",
    "#crew\n",
    "\n",
    "movies =  movies[['movie_id','title','overview','genres','keywords','cast','crew']]"
   ]
  },
  {
   "cell_type": "code",
   "execution_count": null,
   "id": "a8dbdc0a",
   "metadata": {},
   "outputs": [],
   "source": [
    "movies.info() #to show all the columns"
   ]
  },
  {
   "cell_type": "code",
   "execution_count": null,
   "id": "35b22866",
   "metadata": {},
   "outputs": [],
   "source": [
    "movies.head()"
   ]
  },
  {
   "cell_type": "code",
   "execution_count": null,
   "id": "5908fe94",
   "metadata": {},
   "outputs": [],
   "source": [
    "movies.isnull().sum() #to know if there is any missing data or not,if then we have to remove them"
   ]
  },
  {
   "cell_type": "code",
   "execution_count": null,
   "id": "ae643b97",
   "metadata": {},
   "outputs": [],
   "source": [
    "movies.dropna(inplace=True) #since there is 3 overview values so drop them using dropna function"
   ]
  },
  {
   "cell_type": "code",
   "execution_count": null,
   "id": "d1144fd2",
   "metadata": {},
   "outputs": [],
   "source": [
    "movies.duplicated().sum() #to know if there is any duplicate data or not,if then we have to remove them"
   ]
  },
  {
   "cell_type": "code",
   "execution_count": null,
   "id": "d23e4c8a",
   "metadata": {},
   "outputs": [],
   "source": [
    "movies.iloc[0].genres"
   ]
  },
  {
   "cell_type": "code",
   "execution_count": null,
   "id": "dfa822a9",
   "metadata": {},
   "outputs": [],
   "source": [
    "# i have to make the genres as ['Action','Adventure','Fantasy','name','Science Fiction']\n",
    "import ast"
   ]
  },
  {
   "cell_type": "code",
   "execution_count": null,
   "id": "e99cbb1d",
   "metadata": {},
   "outputs": [],
   "source": [
    "def convert(obj): #its a helper function to sort out the above\n",
    "    L=[]\n",
    "    for i in ast.literal_eval(obj):\n",
    "        L.append(i['name'])\n",
    "    return L"
   ]
  },
  {
   "cell_type": "code",
   "execution_count": null,
   "id": "42c16e1e",
   "metadata": {},
   "outputs": [],
   "source": [
    "movies['genres'] = movies['genres'].apply(convert)"
   ]
  },
  {
   "cell_type": "code",
   "execution_count": null,
   "id": "d74e6182",
   "metadata": {},
   "outputs": [],
   "source": [
    "movies.head()"
   ]
  },
  {
   "cell_type": "code",
   "execution_count": null,
   "id": "378590ba",
   "metadata": {},
   "outputs": [],
   "source": [
    " movies['keywords'] = movies['keywords'].apply(convert)"
   ]
  },
  {
   "cell_type": "code",
   "execution_count": null,
   "id": "0f4541e4",
   "metadata": {},
   "outputs": [],
   "source": [
    "movies.head()"
   ]
  },
  {
   "cell_type": "code",
   "execution_count": null,
   "id": "27459f27",
   "metadata": {},
   "outputs": [],
   "source": [
    "# to convert cast column in dictionary\n",
    "def convert3(obj):\n",
    "    L = []\n",
    "    counter = 0\n",
    "    for i in ast.literal_eval(obj):\n",
    "        if counter != 3:\n",
    "            L.append(i['name'])\n",
    "            counter+=1\n",
    "        else:\n",
    "            break\n",
    "    return L"
   ]
  },
  {
   "cell_type": "code",
   "execution_count": null,
   "id": "fef6c81d",
   "metadata": {},
   "outputs": [],
   "source": [
    "movies['cast'] = movies['cast'].apply(convert3) #for each movie there will be three outcomes"
   ]
  },
  {
   "cell_type": "code",
   "execution_count": null,
   "id": "4e331b1b",
   "metadata": {},
   "outputs": [],
   "source": [
    "movies.head()"
   ]
  },
  {
   "cell_type": "code",
   "execution_count": null,
   "id": "29d1db36",
   "metadata": {},
   "outputs": [],
   "source": [
    "#for crew column\n",
    "def fetch_director(obj):\n",
    "    L = []\n",
    "    for i in ast.literal_eval(obj):\n",
    "        if i['job'] == 'Director':\n",
    "            L.append(i['name'])\n",
    "            break\n",
    "    return L"
   ]
  },
  {
   "cell_type": "code",
   "execution_count": null,
   "id": "6f11d6da",
   "metadata": {},
   "outputs": [],
   "source": [
    "movies['crew']=movies['crew'].apply(fetch_director)"
   ]
  },
  {
   "cell_type": "code",
   "execution_count": null,
   "id": "0160b114",
   "metadata": {},
   "outputs": [],
   "source": [
    "movies.head()"
   ]
  },
  {
   "cell_type": "code",
   "execution_count": null,
   "id": "708e8da5",
   "metadata": {},
   "outputs": [],
   "source": [
    "movies['overview']=movies['overview'].apply(lambda x:x.split()) #for creating the overview as a list"
   ]
  },
  {
   "cell_type": "code",
   "execution_count": null,
   "id": "0597b0fc",
   "metadata": {},
   "outputs": [],
   "source": [
    "movies.head()"
   ]
  },
  {
   "cell_type": "code",
   "execution_count": null,
   "id": "3b55facd",
   "metadata": {},
   "outputs": [],
   "source": [
    "#we have to revome the space in between example as (samworthington=sam worthington)\n",
    "movies['genres']=movies['genres'].apply(lambda x:[i.replace(\" \",\"\") for i in x])\n",
    "movies['keywords']=movies['keywords'].apply(lambda x:[i.replace(\" \",\"\") for i in x])\n",
    "movies['cast']=movies['cast'].apply(lambda x:[i.replace(\" \",\"\") for i in x])\n",
    "movies['crew']=movies['crew'].apply(lambda x:[i.replace(\" \",\"\") for i in x])"
   ]
  },
  {
   "cell_type": "code",
   "execution_count": null,
   "id": "fb6c38cd",
   "metadata": {},
   "outputs": [],
   "source": [
    "movies.head()"
   ]
  },
  {
   "cell_type": "code",
   "execution_count": null,
   "id": "856f10d5",
   "metadata": {},
   "outputs": [],
   "source": [
    "movies['tags'] = movies['overview'] + movies['genres'] + movies['keywords'] + movies['cast'] + movies['crew']"
   ]
  },
  {
   "cell_type": "code",
   "execution_count": null,
   "id": "dbc43bbc",
   "metadata": {},
   "outputs": [],
   "source": [
    "movies.head()"
   ]
  },
  {
   "cell_type": "code",
   "execution_count": null,
   "id": "382090ef",
   "metadata": {},
   "outputs": [],
   "source": [
    "new_df = movies[['movie_id','title','tags']] #creating a new df,where we keep movie_id, 'title' and tags column"
   ]
  },
  {
   "cell_type": "code",
   "execution_count": null,
   "id": "cb4e453d",
   "metadata": {},
   "outputs": [],
   "source": [
    "#to convert the list of tags to string\n",
    "new_df['tags'] = new_df['tags'].apply(lambda x:\" \".join(x))"
   ]
  },
  {
   "cell_type": "code",
   "execution_count": null,
   "id": "32bf6a34",
   "metadata": {},
   "outputs": [],
   "source": [
    "import nltk\n",
    "nltk.download() #importing nltk(natural language toolkit)"
   ]
  },
  {
   "cell_type": "code",
   "execution_count": null,
   "id": "1e0d87ab",
   "metadata": {},
   "outputs": [],
   "source": [
    "from nltk.stem.porter import PorterStemmer #we will use stemming\n",
    "ps = PorterStemmer() #if we use ps.stem('loved or loving') it will give output as love"
   ]
  },
  {
   "cell_type": "code",
   "execution_count": null,
   "id": "686321e2",
   "metadata": {},
   "outputs": [],
   "source": [
    "#Helper function\n",
    "def stem(text):\n",
    "    y = []\n",
    "    \n",
    "    for i in text.split():\n",
    "        y.append(ps.stem(i))\n",
    "        \n",
    "    return \" \".join(y)"
   ]
  },
  {
   "cell_type": "code",
   "execution_count": null,
   "id": "c4d89123",
   "metadata": {},
   "outputs": [],
   "source": [
    "new_df['tags'] = new_df['tags'].apply(stem) #that is it will apply stemming in the whole 'tags'"
   ]
  },
  {
   "cell_type": "code",
   "execution_count": null,
   "id": "d9734951",
   "metadata": {},
   "outputs": [],
   "source": [
    "new_df.head() #for all the column at we have converted into strings"
   ]
  },
  {
   "cell_type": "code",
   "execution_count": null,
   "id": "50a488c9",
   "metadata": {},
   "outputs": [],
   "source": [
    "#for a particular column\n",
    "new_df['tags'][0]"
   ]
  },
  {
   "cell_type": "code",
   "execution_count": null,
   "id": "007bbcf2",
   "metadata": {},
   "outputs": [],
   "source": [
    "#To convert all the string into lowercase\n",
    "new_df['tags'] = new_df['tags'].apply(lambda x:x.lower())"
   ]
  },
  {
   "cell_type": "code",
   "execution_count": null,
   "id": "6dda2a62",
   "metadata": {},
   "outputs": [],
   "source": [
    "new_df.head()"
   ]
  },
  {
   "cell_type": "code",
   "execution_count": null,
   "id": "2d69f099",
   "metadata": {},
   "outputs": [],
   "source": [
    "#to remove the stopwords and making all the words in the inform of a vector\n",
    "from sklearn.feature_extraction.text import CountVectorizer\n",
    "cv = CountVectorizer(max_features=5000,stop_words='english')"
   ]
  },
  {
   "cell_type": "code",
   "execution_count": null,
   "id": "a2b31b2b",
   "metadata": {},
   "outputs": [],
   "source": [
    "#converting explicitly into a numpy array\n",
    "vectors = cv.fit_transform(new_df['tags']).toarray()"
   ]
  },
  {
   "cell_type": "code",
   "execution_count": null,
   "id": "3c405ee2",
   "metadata": {},
   "outputs": [],
   "source": [
    "#Now all the movies are in the vector form\n",
    "vectors"
   ]
  },
  {
   "cell_type": "code",
   "execution_count": null,
   "id": "4fde2832",
   "metadata": {},
   "outputs": [],
   "source": [
    "vectors[0]"
   ]
  },
  {
   "cell_type": "code",
   "execution_count": null,
   "id": "0dec45d1",
   "metadata": {},
   "outputs": [],
   "source": [
    "#all the words and digits\n",
    "cv.get_feature_names()"
   ]
  },
  {
   "cell_type": "code",
   "execution_count": null,
   "id": "ba724f78",
   "metadata": {},
   "outputs": [],
   "source": [
    "#since there is so many similar types of words, so we have to remove those,example-actor,actors\n",
    "#now we will use stemming to remove the similar types of words\n",
    "#showing only the root word such as marine = marin \n",
    "stem('In the 22nd century, a paraplegic Marine is dispatched to the moon Pandora on a unique mission, but becomes torn between following orders and protecting an alien civilization. Action Adventure Fantasy ScienceFiction cultureclash future spacewar spacecolony society spacetravel futuristic romance space alien tribe alienplanet cgi marine soldier battle loveaffair antiwar powerrelations mindandsoul 3d SamWorthington ZoeSaldana SigourneyWeaver JamesCameron')"
   ]
  },
  {
   "cell_type": "code",
   "execution_count": null,
   "id": "16b45b83",
   "metadata": {},
   "outputs": [],
   "source": [
    "#now we will use cosine similarity between one movie with another movie\n",
    "#importing cosine_similarity\n",
    "from sklearn.metrics.pairwise import cosine_similarity"
   ]
  },
  {
   "cell_type": "code",
   "execution_count": null,
   "id": "eb135d7d",
   "metadata": {},
   "outputs": [],
   "source": [
    "#passing the whole vectors\n",
    "similarity = cosine_similarity(vectors)"
   ]
  },
  {
   "cell_type": "code",
   "execution_count": null,
   "id": "80843582",
   "metadata": {},
   "outputs": [],
   "source": [
    "#we will sort the list in ascending order will only first five values,but sorted based on the 2nd value\n",
    "sorted(list(enumerate(similarity[0])),reverse=True,key=lambda x:x[1])[1:6]"
   ]
  },
  {
   "cell_type": "code",
   "execution_count": null,
   "id": "be5d0d5f",
   "metadata": {},
   "outputs": [],
   "source": [
    "#now we will make a function,if i chose a movie then it will recomend 5 similar types of movies\n",
    "def recommend(movie):\n",
    "    movie_index = new_df[new_df['title'] == movie].index[0]\n",
    "    distances = similarity[movie_index]\n",
    "    movies_list = sorted(list(enumerate(distances)),reverse=True,key=lambda x:x[1])[1:6]\n",
    "    \n",
    "    for i in movies_list:\n",
    "        print(new_df.iloc[i[0]].title) # it will simply show the title and the closest similar title"
   ]
  },
  {
   "cell_type": "code",
   "execution_count": null,
   "id": "ff2686e9",
   "metadata": {},
   "outputs": [],
   "source": [
    "#the output will be listed in the following way\n",
    "recommend('Batman')"
   ]
  },
  {
   "cell_type": "code",
   "execution_count": null,
   "id": "41bb476e",
   "metadata": {},
   "outputs": [],
   "source": []
  }
 ],
 "metadata": {
  "kernelspec": {
   "display_name": "Python 3 (ipykernel)",
   "language": "python",
   "name": "python3"
  },
  "language_info": {
   "codemirror_mode": {
    "name": "ipython",
    "version": 3
   },
   "file_extension": ".py",
   "mimetype": "text/x-python",
   "name": "python",
   "nbconvert_exporter": "python",
   "pygments_lexer": "ipython3",
   "version": "3.9.7"
  }
 },
 "nbformat": 4,
 "nbformat_minor": 5
}
